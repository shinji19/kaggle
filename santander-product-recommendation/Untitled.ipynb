{
 "cells": [
  {
   "cell_type": "code",
   "execution_count": 1,
   "id": "2460c65e-1bb9-44c2-96c1-58a83a45682f",
   "metadata": {
    "trusted": false,
    "pycharm": {
     "name": "#%%\n"
    }
   },
   "outputs": [
    {
     "name": "stdout",
     "output_type": "stream",
     "text": [
      "Collecting xgboost==1.5.1\r\n",
      "\u001B[33m  WARNING: Retrying (Retry(total=4, connect=None, read=None, redirect=None, status=None)) after connection broken by 'NewConnectionError('<pip._vendor.urllib3.connection.HTTPSConnection object at 0x7f6e5b15c220>: Failed to establish a new connection: [Errno -3] Temporary failure in name resolution')': /packages/36/16/3a81d29dea691882bc95151879217a0c21c07740d0355dc90fe11836e10d/xgboost-1.5.1-py3-none-manylinux2014_x86_64.whl\u001B[0m\r\n",
      "  Downloading xgboost-1.5.1-py3-none-manylinux2014_x86_64.whl (173.5 MB)\r\n",
      "     |████████████████████████████████| 173.5 MB 8.6 kB/s            \r\n",
      "\u001B[?25hCollecting kaggle==1.5.12\r\n",
      "  Downloading kaggle-1.5.12.tar.gz (58 kB)\r\n",
      "     |████████████████████████████████| 58 kB 1.1 MB/s            \r\n",
      "\u001B[?25h  Preparing metadata (setup.py) ... \u001B[?25ldone\r\n",
      "\u001B[?25hRequirement already satisfied: numpy in /opt/conda/lib/python3.9/site-packages (from xgboost==1.5.1) (1.20.3)\r\n",
      "Requirement already satisfied: scipy in /opt/conda/lib/python3.9/site-packages (from xgboost==1.5.1) (1.7.2)\r\n",
      "Requirement already satisfied: six>=1.10 in /opt/conda/lib/python3.9/site-packages (from kaggle==1.5.12) (1.16.0)\r\n",
      "Requirement already satisfied: certifi in /opt/conda/lib/python3.9/site-packages (from kaggle==1.5.12) (2021.10.8)\r\n",
      "Requirement already satisfied: python-dateutil in /opt/conda/lib/python3.9/site-packages (from kaggle==1.5.12) (2.8.2)\r\n",
      "Requirement already satisfied: requests in /opt/conda/lib/python3.9/site-packages (from kaggle==1.5.12) (2.26.0)\r\n",
      "Requirement already satisfied: tqdm in /opt/conda/lib/python3.9/site-packages (from kaggle==1.5.12) (4.62.3)\r\n",
      "Collecting python-slugify\r\n",
      "  Downloading python_slugify-5.0.2-py2.py3-none-any.whl (6.7 kB)\r\n",
      "Requirement already satisfied: urllib3 in /opt/conda/lib/python3.9/site-packages (from kaggle==1.5.12) (1.26.7)\r\n",
      "Collecting text-unidecode>=1.3\r\n",
      "  Downloading text_unidecode-1.3-py2.py3-none-any.whl (78 kB)\r\n",
      "     |████████████████████████████████| 78 kB 2.5 MB/s            \r\n",
      "\u001B[?25hRequirement already satisfied: charset-normalizer~=2.0.0 in /opt/conda/lib/python3.9/site-packages (from requests->kaggle==1.5.12) (2.0.0)\r\n",
      "Requirement already satisfied: idna<4,>=2.5 in /opt/conda/lib/python3.9/site-packages (from requests->kaggle==1.5.12) (3.1)\r\n",
      "Building wheels for collected packages: kaggle\r\n",
      "  Building wheel for kaggle (setup.py) ... \u001B[?25ldone\r\n",
      "\u001B[?25h  Created wheel for kaggle: filename=kaggle-1.5.12-py3-none-any.whl size=73051 sha256=4a5dc6c04da23cac66502b033c11c7c26afd56d44e82d9eaa13984071a0b4a0c\r\n",
      "  Stored in directory: /home/jovyan/.cache/pip/wheels/ac/b2/c3/fa4706d469b5879105991d1c8be9a3c2ef329ba9fe2ce5085e\r\n",
      "Successfully built kaggle\r\n",
      "Installing collected packages: text-unidecode, python-slugify, xgboost, kaggle\r\n",
      "Successfully installed kaggle-1.5.12 python-slugify-5.0.2 text-unidecode-1.3 xgboost-1.5.1\r\n"
     ]
    }
   ],
   "source": [
    "!pip install xgboost==1.5.1 kaggle==1.5.12"
   ]
  },
  {
   "cell_type": "code",
   "execution_count": 3,
   "outputs": [
    {
     "name": "stdout",
     "output_type": "stream",
     "text": [
      "2021-12-09 14:53:28,123 WARNING Retrying (Retry(total=1, connect=None, read=None, redirect=None, status=None)) after connection broken by 'NewConnectionError('<urllib3.connection.HTTPSConnection object at 0x7f814036a5e0>: Failed to establish a new connection: [Errno -3] Temporary failure in name resolution')': /kaggle-competitions-data/kaggle-v2/5558/38995/bundle/archive.zip?GoogleAccessId=web-data@kaggle-161607.iam.gserviceaccount.com&Expires=1639320797&Signature=oT39GOJ7IxV%2B%2BEU2VwfSjl9F2t3IKIfG0KymoHiLg8G7BUnkVTIXVPcesizMFOm72qGAPSVxkuBI%2BjpugzebnO2qp0gKZK%2F6BU7IUWnJ25IUaCQ3eM95Cf1AMGURA%2B7j4Y0V5HVbkrllyMaQzzkRuZUZdsUEkDtIl88hIMt0KSW6UKcuawZ%2BtcPeoLtxCcchx4LjVSuZKXPBowQEg55c5C9oqI4ell9d1zUSzXYgkLGO%2Fhw%2FX%2BpWxfIObIPbHeK6R1JKtq8PpmYF2uBgV6PSD31Qc1nGU78AnEvndII7PTt5mQgJ%2FzykMI9EYN6NAl0Jv4RE8%2FaM1QzTqJTkSmKJPw%3D%3D&response-content-disposition=attachment%3B+filename%3Dsantander-product-recommendation.zip\r\n",
      "Downloading santander-product-recommendation.zip to /home/jovyan/work/santander-product-recommendation\r\n",
      "100%|███████████████████████████████████████▉| 228M/228M [00:42<00:00, 6.68MB/s]\r\n",
      "100%|████████████████████████████████████████| 228M/228M [00:42<00:00, 5.68MB/s]\r\n"
     ]
    }
   ],
   "source": [
    "!kaggle competitions download -c santander-product-recommendation"
   ],
   "metadata": {
    "collapsed": false,
    "pycharm": {
     "name": "#%%\n"
    }
   }
  },
  {
   "cell_type": "code",
   "execution_count": 4,
   "outputs": [
    {
     "name": "stdout",
     "output_type": "stream",
     "text": [
      "Archive:  santander-product-recommendation.zip\r\n",
      "  inflating: sample_submission.csv.zip  \r\n",
      "  inflating: test_ver2.csv.zip       \r\n",
      "  inflating: train_ver2.csv.zip      \r\n"
     ]
    }
   ],
   "source": [
    "!unzip santander-product-recommendation.zip"
   ],
   "metadata": {
    "collapsed": false,
    "pycharm": {
     "name": "#%%\n"
    }
   }
  },
  {
   "cell_type": "code",
   "execution_count": 5,
   "outputs": [
    {
     "name": "stdout",
     "output_type": "stream",
     "text": [
      "Archive:  train_ver2.csv.zip\r\n",
      "  inflating: train_ver2.csv          \r\n"
     ]
    }
   ],
   "source": [
    "!unzip train_ver2.csv.zip"
   ],
   "metadata": {
    "collapsed": false,
    "pycharm": {
     "name": "#%%\n"
    }
   }
  },
  {
   "cell_type": "code",
   "execution_count": null,
   "outputs": [],
   "source": [],
   "metadata": {
    "collapsed": false,
    "pycharm": {
     "name": "#%%\n"
    }
   }
  }
 ],
 "metadata": {
  "kernelspec": {
   "name": "python3",
   "language": "python",
   "display_name": "Python 3 (ipykernel)"
  },
  "language_info": {
   "codemirror_mode": {
    "name": "ipython",
    "version": 3
   },
   "file_extension": ".py",
   "mimetype": "text/x-python",
   "name": "python",
   "nbconvert_exporter": "python",
   "pygments_lexer": "ipython3",
   "version": "3.9.7"
  }
 },
 "nbformat": 4,
 "nbformat_minor": 5
}